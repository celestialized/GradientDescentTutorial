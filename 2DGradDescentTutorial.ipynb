{
 "cells": [
  {
   "cell_type": "markdown",
   "metadata": {},
   "source": [
    "### Gradient Descent tutorial on a 2D function"
   ]
  },
  {
   "cell_type": "code",
   "execution_count": 1,
   "metadata": {},
   "outputs": [],
   "source": [
    "from sympy import symbols\n",
    "from sympy import diff,sin,cos\n",
    "from IPython.display import display\n",
    "from mpl_toolkits import mplot3d\n",
    "%matplotlib qt\n",
    "import numpy as np\n",
    "from sympy import lambdify\n",
    "import matplotlib.pyplot as plt"
   ]
  },
  {
   "cell_type": "markdown",
   "metadata": {},
   "source": [
    "##### Define the symbolic variables"
   ]
  },
  {
   "cell_type": "code",
   "execution_count": 2,
   "metadata": {},
   "outputs": [],
   "source": [
    "x = symbols('x')\n",
    "y = symbols('y')"
   ]
  },
  {
   "cell_type": "markdown",
   "metadata": {},
   "source": [
    "##### Define the function and find its gradients"
   ]
  },
  {
   "cell_type": "code",
   "execution_count": 14,
   "metadata": {},
   "outputs": [
    {
     "name": "stdout",
     "output_type": "stream",
     "text": [
      "Function f1\n"
     ]
    },
    {
     "data": {
      "text/latex": [
       "$\\displaystyle \\left(x - 2\\right)^{2} + \\left(y - 2\\right)^{2} + 5$"
      ],
      "text/plain": [
       "(x - 2)**2 + (y - 2)**2 + 5"
      ]
     },
     "metadata": {},
     "output_type": "display_data"
    },
    {
     "name": "stdout",
     "output_type": "stream",
     "text": [
      "Partial Derivative of f1 w.r.t x\n"
     ]
    },
    {
     "data": {
      "text/latex": [
       "$\\displaystyle 2 x - 4$"
      ],
      "text/plain": [
       "2*x - 4"
      ]
     },
     "metadata": {},
     "output_type": "display_data"
    },
    {
     "name": "stdout",
     "output_type": "stream",
     "text": [
      "Partial Derivative of f1 w.r.t y\n"
     ]
    },
    {
     "data": {
      "text/latex": [
       "$\\displaystyle 2 y - 4$"
      ],
      "text/plain": [
       "2*y - 4"
      ]
     },
     "metadata": {},
     "output_type": "display_data"
    }
   ],
   "source": [
    "# f1 = x**2 * y**3 + 3*y + x\n",
    "# f1 = sin(x)*cos(y)\n",
    "f1 = (x-2) ** 2 + (y-2)**2+5\n",
    "print('Function f1')\n",
    "display(f1)\n",
    "f1x = diff(f1,x)\n",
    "f1y = diff(f1,y)\n",
    "print('Partial Derivative of f1 w.r.t x')\n",
    "display(f1x)\n",
    "print('Partial Derivative of f1 w.r.t y')\n",
    "display(f1y)"
   ]
  },
  {
   "cell_type": "markdown",
   "metadata": {},
   "source": [
    "##### Perform gradient descent"
   ]
  },
  {
   "cell_type": "code",
   "execution_count": 18,
   "metadata": {},
   "outputs": [],
   "source": [
    "# Create numpy compatible function for sympy \n",
    "f = lambdify([x,y],f1,'numpy')\n",
    "\n",
    "# Define the axes \n",
    "x_grid = np.linspace(-3, 3, 30)\n",
    "y_grid = np.linspace(-3, 3, 30)\n",
    "\n",
    "# Create grid mesh variable\n",
    "X, Y = np.meshgrid(x_grid,y_grid)\n",
    "Z = f(X,Y)\n",
    "\n",
    "#Select the initial start point. Note uncomment the appropriate start point\n",
    "# depending on the function you chose in the previous cell\n",
    "\n",
    "# x0,y0 = (3,3) # Initial point for x**2 * y**3 + 3*y + x\n",
    "# x0,y0 = (1,0) # Initial point for sin(x)*cos(y)\n",
    "x0,y0 = (-3,-1) # Initial point for (x-2) ** 2 + (y-2)**2+5\n",
    "\n",
    "# Create two lists to store the gradient descent points\n",
    "xlist = [x0]\n",
    "ylist = [y0]\n",
    "\n",
    "# Define the learning rate\n",
    "lr=0.01\n",
    "\n",
    "# Perform gradient descent\n",
    "for i in range(100):\n",
    "    # Update the points using the approporate gradients\n",
    "    x0-=f1x.evalf(subs={x:x0,y:y0})*lr\n",
    "    y0-=f1y.evalf(subs={x:x0,y:y0})*lr\n",
    "    # Store points in the list for plotting purposes\n",
    "    xlist.append(x0)\n",
    "    ylist.append(y0)\n",
    "    \n",
    "xarr = np.array(xlist,dtype='float64')\n",
    "yarr = np.array(ylist,dtype='float64')  \n",
    "\n",
    "#Calculate the function values at the gradient descent points\n",
    "zlist = list(f(xarr,yarr))\n",
    "\n",
    "#Plot the 3D Surface with the gradient descent points\n",
    "ax = plt.axes(projection='3d')\n",
    "ax.plot_surface(X, Y, Z, rstride=1, cstride=1,\n",
    "                cmap='viridis', edgecolor='none')\n",
    "# ax.plot(xlist,ylist,zlist,markerfacecolor='r', markeredgecolor='r', marker='o', markersize=10, alpha=0.6)\n",
    "ax.plot(xlist,ylist,zlist,'ro',markersize=10,alpha=0.6)\n",
    "ax.set_title('Gradient Descent');\n",
    "ax.set_aspect('equal')"
   ]
  },
  {
   "cell_type": "markdown",
   "metadata": {},
   "source": [
    "##### Note you may have to move the figure and get an angle such that the path is visible."
   ]
  }
 ],
 "metadata": {
  "kernelspec": {
   "display_name": "Python 3",
   "language": "python",
   "name": "python3"
  },
  "language_info": {
   "codemirror_mode": {
    "name": "ipython",
    "version": 3
   },
   "file_extension": ".py",
   "mimetype": "text/x-python",
   "name": "python",
   "nbconvert_exporter": "python",
   "pygments_lexer": "ipython3",
   "version": "3.6.8"
  }
 },
 "nbformat": 4,
 "nbformat_minor": 2
}
